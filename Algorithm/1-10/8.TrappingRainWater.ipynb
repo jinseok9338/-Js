{
 "cells": [
  {
   "cell_type": "markdown",
   "metadata": {},
   "source": [
    "높이를 입력받아 비 온후 얼마나 많은 물이 쌓일수 있는지 계산해라\n",
    "\n",
    "입력 [0,1,0,2,1,0,1,3,2,1,2,1]\n",
    "\n",
    "출력 6"
   ]
  },
  {
   "cell_type": "code",
   "execution_count": null,
   "metadata": {},
   "outputs": [],
   "source": [
    "def trap(height: List[int]) -> int:\n",
    "    if not height: return 0\n",
    "\n",
    "    volume = 0 \n",
    "    left ,right = 0, len(height)-1 \n",
    "    left_max, right_max = height[left], height[right]\n",
    "    \n",
    "    while left < right:\n",
    "        left_max, right_max = max(height[left], left_max), max(height[right],right_max)\n",
    "\n",
    "        # 더 높은 곳을 향해서 left 와 right 이동 \n",
    "        if left_max <= right_max:\n",
    "            volume += left_max - height[left]\n",
    "            left += 1\n",
    "        else:\n",
    "            volume += right_max - height[right]\n",
    "            right -= 1\n",
    "            \n",
    "    return volume"
   ]
  }
 ],
 "metadata": {
  "language_info": {
   "name": "python"
  },
  "orig_nbformat": 4
 },
 "nbformat": 4,
 "nbformat_minor": 2
}
