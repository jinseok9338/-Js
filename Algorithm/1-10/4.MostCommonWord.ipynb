{
 "cells": [
  {
   "cell_type": "markdown",
   "metadata": {},
   "source": [
    "가장흔한 단어\n",
    "금지된 단어를 제와한 가장 흔한 단여를 출력하라 대문자 소문자 구별하지 않으며 구두점은 무시한다."
   ]
  },
  {
   "cell_type": "code",
   "execution_count": null,
   "metadata": {},
   "outputs": [],
   "source": [
    "def mostCommonWord(paragraph:str, banned:List[str]) -> str:\n",
    "    # paragraph 에서 (A word character is a character a-z, A-Z, 0-9, including _ (underscore).) 아닌\n",
    "    # 글자를 소문자로 맞추고 공백으로 나누어 리스트를 만들고 banned 에 들어있지 않은 단어들로 새로운 리스트를 만든다. \n",
    "    words = [word for word in re.sub(r'[^\\w]',\"\",paragraph).lower().split() if word not in banned]\n",
    "\n",
    "    counts = collections.Counter(words)\n",
    "\n",
    "    return counts.most_common(1)[0][0]\n"
   ]
  }
 ],
 "metadata": {
  "language_info": {
   "name": "python"
  },
  "orig_nbformat": 4
 },
 "nbformat": 4,
 "nbformat_minor": 2
}
