{
 "cells": [
  {
   "cell_type": "markdown",
   "metadata": {},
   "source": [
    "문자열 뒤집기\n",
    "문자열을 뒤집는 함수를 작성해라. 입력값은 문자 ㅐ열이며, 리턴 없이 리스트 내부를 직접 조작하라\n",
    "\n",
    "입력: [\"h\",\"e\",\"l\",\"l\",\"o\"]\n",
    "\n",
    "출력: [\"o\",\"l\",\"l\",\"e\",\"h\"]"
   ]
  },
  {
   "cell_type": "code",
   "execution_count": 5,
   "metadata": {},
   "outputs": [
    {
     "name": "stdout",
     "output_type": "stream",
     "text": [
      "['o', 'l', 'l', 'e', 'h']\n"
     ]
    }
   ],
   "source": [
    "# 투포인터 스왑\n",
    "\n",
    "def reverseString(s) -> None:\n",
    "    left, right = 0, len(s) -1 \n",
    "    while left < right:\n",
    "        s[left], s[right] = s[right] , s[left]\n",
    "        left += 1\n",
    "        right -= 1\n",
    "\n",
    "inputList = [\"h\",\"e\",\"l\",\"l\",\"o\"]\n",
    "reverseString(inputList)\n",
    "print(inputList)"
   ]
  }
 ],
 "metadata": {
  "kernelspec": {
   "display_name": "Python 3.8.13 64-bit ('shims')",
   "language": "python",
   "name": "python3"
  },
  "language_info": {
   "codemirror_mode": {
    "name": "ipython",
    "version": 3
   },
   "file_extension": ".py",
   "mimetype": "text/x-python",
   "name": "python",
   "nbconvert_exporter": "python",
   "pygments_lexer": "ipython3",
   "version": "3.8.13"
  },
  "orig_nbformat": 4,
  "vscode": {
   "interpreter": {
    "hash": "9ac03a0a6051494cc606d484d27d20fce22fb7b4d169f583271e11d5ba46a56e"
   }
  }
 },
 "nbformat": 4,
 "nbformat_minor": 2
}
