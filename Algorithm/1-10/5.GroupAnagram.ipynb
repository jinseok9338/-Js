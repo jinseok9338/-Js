{
 "cells": [
  {
   "cell_type": "markdown",
   "metadata": {},
   "source": [
    "구룹 아나그램\n",
    "\n",
    "문자열 배열을 받아 애너그램 단위로 그룹핑 하라\n",
    "\n",
    "입력: [\"eat\",\"tea\",\"tan\",\"ate\",\"nat\",\"bat\"]\n",
    "\n",
    "출력 : [\n",
    "    [\"eat\",\"ate\",\"tea\"],\n",
    "    [\"nat\",\"tan\"],\n",
    "    [\"bat\"]\n",
    "]"
   ]
  },
  {
   "cell_type": "code",
   "execution_count": null,
   "metadata": {},
   "outputs": [],
   "source": [
    "def groupAnagram(strs:List[str]) -> List[List[str]]:\n",
    "    anagrams = collections.defaultdict(list)\n",
    "\n",
    "    for word in strs:\n",
    "        #정렬해서 딕션내리에 추가\n",
    "        anagrams[''.join(sorted(word))].append(word)\n",
    "    return list(anagrams.values())"
   ]
  }
 ],
 "metadata": {
  "language_info": {
   "name": "python"
  },
  "orig_nbformat": 4
 },
 "nbformat": 4,
 "nbformat_minor": 2
}
