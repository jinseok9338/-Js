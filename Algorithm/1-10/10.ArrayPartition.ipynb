{
 "cells": [
  {
   "cell_type": "markdown",
   "metadata": {},
   "source": [
    "n 개의 페어를 이용한 min(a,b)의 합으로 만들수 있는 가장 큰 수를 출력하라\n",
    "\n",
    "압력 [1,4,3,2]\n",
    "출력 4"
   ]
  },
  {
   "cell_type": "code",
   "execution_count": null,
   "metadata": {},
   "outputs": [],
   "source": [
    "# 오름차순 출이\n",
    "\n",
    "def arrayPair(nums:List[int]) -> int:\n",
    "    sum = 0\n",
    "    pair =[]\n",
    "    nums.sort()\n",
    "\n",
    "    for n in nums:\n",
    "        pair.append(n)\n",
    "        if len(pair) == 2:\n",
    "            sum += min(pair)\n",
    "            pair = []\n",
    "    return sum\n",
    "\n",
    "    # 굳이 이렇게 해야 하나??? \n",
    "    # 어짜피 nums 를 소팅해주고 두개의 숫자를 넣고 작은것을 빼내면 \n",
    "    # 홀수의 숫자를 더하는것과 같지 않은가??"
   ]
  },
  {
   "cell_type": "code",
   "execution_count": null,
   "metadata": {},
   "outputs": [],
   "source": [
    "def arrayPair(nums:List[int]) -> int:\n",
    "    sum = 0\n",
    "    nums.sort()\n",
    "\n",
    "    for i, num in enumerate(nums):\n",
    "        if i %2 ==0:\n",
    "            sum += num\n",
    "    \n",
    "    return sum"
   ]
  }
 ],
 "metadata": {
  "language_info": {
   "name": "python"
  },
  "orig_nbformat": 4
 },
 "nbformat": 4,
 "nbformat_minor": 2
}
