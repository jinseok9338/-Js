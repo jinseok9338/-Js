{
 "cells": [
  {
   "cell_type": "markdown",
   "metadata": {},
   "source": [
    "Valid Palindrome \n",
    "\n",
    "입력 \"A man, a plan, a canal: Panama\"\n",
    "출력 True\n",
    "\n",
    "입력 \"race a car\"\n",
    "출력 False"
   ]
  },
  {
   "cell_type": "code",
   "execution_count": 5,
   "metadata": {},
   "outputs": [
    {
     "name": "stdout",
     "output_type": "stream",
     "text": [
      "True\n",
      "False\n"
     ]
    }
   ],
   "source": [
    "# use Deque\n",
    "# collections 모듈에서 Deque 자료형을 이용하는 경우\n",
    "\n",
    "import collections\n",
    "\n",
    "def isPalindrome(s:str) -> bool:\n",
    "    # declare deque collections\n",
    "    strs: Deque = collections.deque()\n",
    "\n",
    "    for char in s:\n",
    "        # 만약 글자가 숫자나 글자면 (특수문자 제외) deque 에 넣는다.\n",
    "        if char.isalnum():\n",
    "            strs.append(char.lower())\n",
    "    \n",
    "    # deque 에 있는 글자가 1개 이상일떄 양옆을 비교해 주면서 끝이 같은지 아닌지 비교\n",
    "    while len(strs) > 1:\n",
    "        if strs.popleft() != strs.pop():\n",
    "            return False\n",
    "    \n",
    "    return True\n",
    "\n",
    "print(isPalindrome(\"A man, a plan, a canal: Panama\"))\n",
    "print(isPalindrome(\"race a car\"))"
   ]
  },
  {
   "cell_type": "code",
   "execution_count": 7,
   "metadata": {},
   "outputs": [
    {
     "name": "stdout",
     "output_type": "stream",
     "text": [
      "True\n",
      "False\n"
     ]
    }
   ],
   "source": [
    "# use Slicing\n",
    "import re\n",
    "\n",
    "def isPalindromeSlice(s:str) -> bool:\n",
    "    s = s.lower()\n",
    "    # 정규식으로 불필요한 문자 필터링 \n",
    "    s = re.sub(\"[^a-z0-9]\",\"\",s)\n",
    "\n",
    "    return s == s[::-1]\n",
    "\n",
    "print(isPalindromeSlice(\"A man, a plan, a canal: Panama\"))\n",
    "print(isPalindromeSlice(\"race a car\"))"
   ]
  },
  {
   "cell_type": "code",
   "execution_count": null,
   "metadata": {},
   "outputs": [],
   "source": []
  }
 ],
 "metadata": {
  "kernelspec": {
   "display_name": "Python 3.8.13 64-bit ('shims')",
   "language": "python",
   "name": "python3"
  },
  "language_info": {
   "codemirror_mode": {
    "name": "ipython",
    "version": 3
   },
   "file_extension": ".py",
   "mimetype": "text/x-python",
   "name": "python",
   "nbconvert_exporter": "python",
   "pygments_lexer": "ipython3",
   "version": "3.8.13"
  },
  "orig_nbformat": 4,
  "vscode": {
   "interpreter": {
    "hash": "9ac03a0a6051494cc606d484d27d20fce22fb7b4d169f583271e11d5ba46a56e"
   }
  }
 },
 "nbformat": 4,
 "nbformat_minor": 2
}
