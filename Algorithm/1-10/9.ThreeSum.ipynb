{
 "cells": [
  {
   "cell_type": "markdown",
   "metadata": {},
   "source": [
    "배열을 입력 받아 합으로 0을 만들수 있는 3개의 수를 출력하라\n",
    "\n",
    "입력 nums = [-1,0,1,2,-1,-4]\n",
    "출력\n",
    "    [\n",
    "        [-1,0,1],\n",
    "        [-1,-1,2]\n",
    "    ]"
   ]
  },
  {
   "cell_type": "code",
   "execution_count": 1,
   "metadata": {},
   "outputs": [
    {
     "ename": "NameError",
     "evalue": "name 'List' is not defined",
     "output_type": "error",
     "traceback": [
      "\u001b[0;31m---------------------------------------------------------------------------\u001b[0m",
      "\u001b[0;31mNameError\u001b[0m                                 Traceback (most recent call last)",
      "\u001b[1;32m/workspace/-Js/Algorithm/1-10/9.ThreeSum.ipynb Cell 2\u001b[0m in \u001b[0;36m<cell line: 1>\u001b[0;34m()\u001b[0m\n\u001b[0;32m----> <a href='vscode-notebook-cell://jinseok9338-js-fw7lb815jid.ws-us63.gitpod.io/workspace/-Js/Algorithm/1-10/9.ThreeSum.ipynb#W0sdnNjb2RlLXJlbW90ZQ%3D%3D?line=0'>1</a>\u001b[0m \u001b[39mdef\u001b[39;00m \u001b[39mthreeSum\u001b[39m(nums:List[\u001b[39mint\u001b[39m]) \u001b[39m-\u001b[39m\u001b[39m>\u001b[39m List[List[\u001b[39mint\u001b[39m]]:\n\u001b[1;32m      <a href='vscode-notebook-cell://jinseok9338-js-fw7lb815jid.ws-us63.gitpod.io/workspace/-Js/Algorithm/1-10/9.ThreeSum.ipynb#W0sdnNjb2RlLXJlbW90ZQ%3D%3D?line=1'>2</a>\u001b[0m     result \u001b[39m=\u001b[39m []\n\u001b[1;32m      <a href='vscode-notebook-cell://jinseok9338-js-fw7lb815jid.ws-us63.gitpod.io/workspace/-Js/Algorithm/1-10/9.ThreeSum.ipynb#W0sdnNjb2RlLXJlbW90ZQ%3D%3D?line=2'>3</a>\u001b[0m     nums\u001b[39m.\u001b[39msort()\n",
      "\u001b[0;31mNameError\u001b[0m: name 'List' is not defined"
     ]
    }
   ],
   "source": [
    "def threeSum(nums:List[int]) -> List[List[int]]:\n",
    "    result = []\n",
    "    nums.sort()\n",
    "\n",
    "    for i in range(len(nums)-2):\n",
    "        if i >0 and nums[i] == nums[i-1]:\n",
    "            continue # 다음 i 로 넘어간다는 말 \n",
    "\n",
    "        #간격을 좁혀가며 합 sum 계산\n",
    "        # left 는 i 다음 숫자부터 시작해야 함으로 i +1 이다.\n",
    "        left , right = i +1 , len(nums) -1\n",
    "\n",
    "        while left < right:\n",
    "            sum = nums[i] + nums[left] +nums[right]\n",
    "            if sum <0:\n",
    "                left += 1\n",
    "\n",
    "            elif sum >0:\n",
    "                right -= 1\n",
    "\n",
    "            else:\n",
    "                result.append(nums[i], nums[left], nums[right])\n",
    "\n",
    "                # 만약 nums[left] 가 nums[left+1] 과 같다면 비교해줄 필요가 없으니 left를\n",
    "                # 최대한 오른쪽으로 미뤄줌 \n",
    "                # right 도 마찬가지이다.\n",
    "\n",
    "                while left < right and nums[left] == nums[left+1]:\n",
    "                    left += 1\n",
    "                while left < right and nums[right] == nums[right-1]:\n",
    "                    right -=1\n",
    "                # 다 되었으면 다음 비교를 위해서 한칸씩 보낸다.\n",
    "                left += 1 \n",
    "                right -= 1\n",
    "    \n",
    "    return result"
   ]
  },
  {
   "cell_type": "code",
   "execution_count": null,
   "metadata": {},
   "outputs": [],
   "source": []
  }
 ],
 "metadata": {
  "kernelspec": {
   "display_name": "Python 3.8.13 64-bit ('shims')",
   "language": "python",
   "name": "python3"
  },
  "language_info": {
   "codemirror_mode": {
    "name": "ipython",
    "version": 3
   },
   "file_extension": ".py",
   "mimetype": "text/x-python",
   "name": "python",
   "nbconvert_exporter": "python",
   "pygments_lexer": "ipython3",
   "version": "3.8.13"
  },
  "orig_nbformat": 4,
  "vscode": {
   "interpreter": {
    "hash": "9ac03a0a6051494cc606d484d27d20fce22fb7b4d169f583271e11d5ba46a56e"
   }
  }
 },
 "nbformat": 4,
 "nbformat_minor": 2
}
