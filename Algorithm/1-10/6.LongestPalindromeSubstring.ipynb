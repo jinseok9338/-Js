{
 "cells": [
  {
   "cell_type": "markdown",
   "metadata": {},
   "source": [
    "가장 긴 팰린드롬 부분 문자열을 출력하라 \n",
    "\n",
    "입력 \"babad\"\n",
    "출력 \"bab\""
   ]
  },
  {
   "cell_type": "code",
   "execution_count": 2,
   "metadata": {},
   "outputs": [
    {
     "name": "stdout",
     "output_type": "stream",
     "text": [
      "bab\n"
     ]
    }
   ],
   "source": [
    "# 중앙을 중심으로 확장하는 풀이 \n",
    "# 투포인터 확장\n",
    "\n",
    "def longestPalindrome(s:str) -> str:\n",
    "    #팰린드롬 판별및 확장\n",
    "    def expand(left:int , right:int) -> str:\n",
    "        # 왼쪽과 오른쪽이 아직 index 를 벋어 나지 않고 left 글자와 right 글자가 같으면 오른쪽과 왼쪽을 양옆으로 늘려준다.\n",
    "        # 왼쪽과 오른쪽은 중앙에서 시작했다. \n",
    "        while left >= 0 and right < len(s) and s[left] == s[right]:\n",
    "            left -= 1\n",
    "            right += 1\n",
    "        return s[left +1 : right]\n",
    "    \n",
    "    # 해당 사항이 없으면 빠르게 리턴 \n",
    "    if len(s) <2 or s == s[::-1]:\n",
    "        return s\n",
    "    \n",
    "    result = \"\"\n",
    "\n",
    "    # 모든 글자를 회로하며 가장 긴값을 찾을 건데 중앙 값을 s[i],s[i+1] 인 경우도 있지만\n",
    "    # 가운데 글자를 두고 멀어지는 경우 즉 s[i],s[i+2] 인 경우도 있기 때문에 range 는 len(s) -1 까지만 해준다.\n",
    "    for i in range(len(s)-1):\n",
    "        result = max(result, expand(i, i+1), expand(i,i+2),key = len)\n",
    "    return result\n",
    "\n",
    "print(longestPalindrome(\"babad\"))\n"
   ]
  }
 ],
 "metadata": {
  "kernelspec": {
   "display_name": "Python 3.8.13 64-bit ('shims')",
   "language": "python",
   "name": "python3"
  },
  "language_info": {
   "codemirror_mode": {
    "name": "ipython",
    "version": 3
   },
   "file_extension": ".py",
   "mimetype": "text/x-python",
   "name": "python",
   "nbconvert_exporter": "python",
   "pygments_lexer": "ipython3",
   "version": "3.8.13"
  },
  "orig_nbformat": 4,
  "vscode": {
   "interpreter": {
    "hash": "9ac03a0a6051494cc606d484d27d20fce22fb7b4d169f583271e11d5ba46a56e"
   }
  }
 },
 "nbformat": 4,
 "nbformat_minor": 2
}
