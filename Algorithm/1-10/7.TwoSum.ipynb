{
 "cells": [
  {
   "cell_type": "markdown",
   "metadata": {},
   "source": [
    "덧샘하여 타겟을 만들수 있는 배열의 두숫자 인덱스를 리턴하라\n",
    "\n",
    "입력 nums = [2,7,11,15] target = 9\n",
    "\n",
    "출력 [0,1]"
   ]
  },
  {
   "cell_type": "code",
   "execution_count": null,
   "metadata": {},
   "outputs": [],
   "source": [
    "# 첫번째 수를 뺀 결과 키 조회\n",
    "\n",
    "def twoSum(nums: List[int], target: List[int]) -> List[int]:\n",
    "    nums_map = {}\n",
    "\n",
    "    for i, num in enumerate(nums):\n",
    "        nums_map[num] = i\n",
    "\n",
    "    for i , num in enumerate(nums):\n",
    "        if target - num in nums_map and i != nums_map[target-num]:\n",
    "            # 숫자 여러개를 고르는 것이 아닌 두개의 숫자만 고르면 되는것이라서 찾으면 바로 리턴한다.\n",
    "            return [i, nums_map[target - num]]"
   ]
  },
  {
   "cell_type": "code",
   "execution_count": null,
   "metadata": {},
   "outputs": [],
   "source": [
    "# 조회 구조 개선 \n",
    "def twoSum(nums: List[int], target: List[int]) -> List[int]:\n",
    "    nums_map = {}\n",
    "\n",
    "    # for i, num in enumerate(nums):\n",
    "    #     nums_map[num] = i\n",
    "\n",
    "    # for i , num in enumerate(nums):\n",
    "    #     if target - num in nums_map and i != nums_map[target-num]:\n",
    "    #         # 숫자 여러개를 고르는 것이 아닌 두개의 숫자만 고르면 되는것이라서 찾으면 바로 리턴한다.\n",
    "    #         return [i, nums_map[target - num]]\n",
    "\n",
    "    #위의 코드의 두개의 for 문을 하나로 합친다.\n",
    "\n",
    "    for i, num in enumerate(nums):\n",
    "        if target - num in nums_map:\n",
    "            return [nums_map[target-num],i]\n",
    "        nums_map[num] = i\n",
    "    # 두개를 하나로 합치면 간결해 지나 직관적이지는 않기 때문에 아마 .... 위의 방식을 선택하는것이 낫지 않을까 싶다."
   ]
  }
 ],
 "metadata": {
  "language_info": {
   "name": "python"
  },
  "orig_nbformat": 4
 },
 "nbformat": 4,
 "nbformat_minor": 2
}
