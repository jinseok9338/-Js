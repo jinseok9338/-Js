{
 "cells": [
  {
   "cell_type": "markdown",
   "metadata": {},
   "source": [
    "보석과 돌\n",
    "J는 보석이며 S 는 가지고 있는 돌이다 S에는 보석이 얼마나 있을까? 대문자와 소문자는 구별한다.\n",
    "\n",
    "입력 J = \"aA\" S = \"aAAbbbb\" \n",
    "출력 3 (a 1개 A 2개)"
   ]
  },
  {
   "cell_type": "code",
   "execution_count": null,
   "metadata": {},
   "outputs": [],
   "source": [
    "def numJewelsInStones(j:str, s:str):\n",
    "    freq = collections.Counter(s)\n",
    "    count = 0\n",
    "\n",
    "    for char in j:\n",
    "        count += freq[char]\n",
    "    \n",
    "    return count"
   ]
  }
 ],
 "metadata": {
  "language_info": {
   "name": "python"
  },
  "orig_nbformat": 4
 },
 "nbformat": 4,
 "nbformat_minor": 2
}
