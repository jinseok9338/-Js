{
 "cells": [
  {
   "cell_type": "markdown",
   "metadata": {},
   "source": [
    "중복 문자 제거 \n",
    "중복된 문자를 제외하고 사전식 순서 Lexicographical Order로 나열하라\n",
    "\n",
    "입력 bcabc\n",
    "출력 abc\n",
    "\n",
    "입력 cbacdcbc\n",
    "출력 acdb"
   ]
  },
  {
   "cell_type": "code",
   "execution_count": null,
   "metadata": {},
   "outputs": [],
   "source": [
    "def removeDuplicateLetters(s:str) -> str:\n",
    "    counter, seen, stack = collections.Counter(s), set(), []\n",
    "\n",
    "    for char in s:\n",
    "        counter[char] -= 1\n",
    "        if char in seen: continue\n",
    "\n",
    "        while stack and char < stack[-1] and counter[stack[-1]] > 0:\n",
    "            seen.remove(stack.pop())\n",
    "        stack.append(char)\n",
    "        seen.add(char)\n",
    "    \n",
    "    return ''.join(stack)"
   ]
  }
 ],
 "metadata": {
  "kernelspec": {
   "display_name": "Python 3.8.13 64-bit ('shims')",
   "language": "python",
   "name": "python3"
  },
  "language_info": {
   "name": "python",
   "version": "3.8.13"
  },
  "orig_nbformat": 4,
  "vscode": {
   "interpreter": {
    "hash": "9ac03a0a6051494cc606d484d27d20fce22fb7b4d169f583271e11d5ba46a56e"
   }
  }
 },
 "nbformat": 4,
 "nbformat_minor": 2
}
