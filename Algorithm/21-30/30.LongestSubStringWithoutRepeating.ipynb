{
 "cells": [
  {
   "cell_type": "markdown",
   "metadata": {},
   "source": [
    "중복 없는 가장 긴 부분 문자열\n",
    "\n",
    "중복 문자가 없는 가장 긴 부분 문자열의 길이를 리턴하라\n",
    "\n",
    "입력 \"abcabcbb\"\n",
    "출력 3"
   ]
  },
  {
   "cell_type": "code",
   "execution_count": null,
   "metadata": {},
   "outputs": [],
   "source": [
    "def lengthOfLongestSubstring(s:str) ->int:\n",
    "    used = {}\n",
    "    max_length = start = 0\n",
    "    for index, char in enumerate(s):\n",
    "        #이미 등장했던 문자라면 start 위치 갱신\n",
    "        if char in used and start <= used[char]:\n",
    "            start = used[char] + 1\n",
    "        else: # 최대 부분 문자열 길이 갱신 \n",
    "            max_length = max(max_length, index - start +1)\n",
    "        \n",
    "        #현재 문자의 위치 삽입\n",
    "        used[char] = index\n",
    "        \n",
    "    return max_length"
   ]
  }
 ],
 "metadata": {
  "language_info": {
   "name": "python"
  },
  "orig_nbformat": 4
 },
 "nbformat": 4,
 "nbformat_minor": 2
}
