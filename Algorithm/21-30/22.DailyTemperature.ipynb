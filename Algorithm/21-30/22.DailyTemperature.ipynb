{
 "cells": [
  {
   "cell_type": "markdown",
   "metadata": {},
   "source": [
    "일일 온도\n",
    "\n",
    "매일의 온도 리스트 T 를 받아서 더 따뜻한 날씨를 위해서는 며칠을 기다려야 하는지를 출력하라\n",
    "\n",
    "입력 T = [73,74,75,71,69,72,76,73]\n",
    "\n",
    "출력 [1,1,4,2,1,1,0,0]"
   ]
  },
  {
   "cell_type": "code",
   "execution_count": null,
   "metadata": {},
   "outputs": [],
   "source": [
    "def DailyTemp(T:List[int]) -> List[int]:\n",
    "    answer = [0] * len(T)\n",
    "    stack = []\n",
    "    for i ,cur in enumerate(T):\n",
    "        while stack and cur > T[stack[-1]]:\n",
    "            last = stack.pop()\n",
    "            answer[last] = i - last\n",
    "        stack.append(i)\n",
    "\n",
    "    return answer"
   ]
  }
 ],
 "metadata": {
  "language_info": {
   "name": "python"
  },
  "orig_nbformat": 4
 },
 "nbformat": 4,
 "nbformat_minor": 2
}
