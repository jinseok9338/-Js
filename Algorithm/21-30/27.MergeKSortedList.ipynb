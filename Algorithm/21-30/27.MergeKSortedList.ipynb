{
 "cells": [
  {
   "cell_type": "markdown",
   "metadata": {},
   "source": [
    "k개의 정렬리스트 병합\n",
    "\n",
    "k개의 정렬된 리스트를 1개의 정렬된 리스트로 병합하라\n",
    "\n",
    "입력 [\n",
    "    1->4->5,\n",
    "    1->3->4,\n",
    "    2->6\n",
    "]\n",
    "\n",
    "출력 1->1->2->3->4->4->5->6"
   ]
  },
  {
   "cell_type": "code",
   "execution_count": null,
   "metadata": {},
   "outputs": [],
   "source": [
    "def mergeKLists(lists:List[ListNode]) -> ListNode:\n",
    "    root = result = ListNode(None):\n",
    "    heap = []\n",
    "\n",
    "    # 각 연결 리스트의 루트를 힙에 저장\n",
    "    for i in range(len(lists)):\n",
    "        if lists[i]: heapq.heappush(heap,(lists[i].val, i, lists[i]))\n",
    "\n",
    "    # 힙 추출 이후 다음노드는 다시 저장\n",
    "    while heap:\n",
    "        node = heapq.heappop(heap)\n",
    "        index = node[1]\n",
    "        result.next = node[2]\n",
    "\n",
    "        result = result.next\n",
    "        if result.next:\n",
    "            headq.heappush(heap,(result.next.val, index, result.next))\n",
    "    \n",
    "    return root.next"
   ]
  }
 ],
 "metadata": {
  "language_info": {
   "name": "python"
  },
  "orig_nbformat": 4
 },
 "nbformat": 4,
 "nbformat_minor": 2
}
