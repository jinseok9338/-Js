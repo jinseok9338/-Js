{
 "cells": [
  {
   "cell_type": "markdown",
   "metadata": {},
   "source": [
    "홀짝 연결리스트\n",
    "\n",
    "연결리스트를 홀수 노드 다음에 짝수 노드가 오도록 재구성 하라\n",
    "\n",
    "입력 1->2->3->4->5->Null\n",
    "출력 1->3->5->2->4->Null"
   ]
  },
  {
   "cell_type": "code",
   "execution_count": null,
   "metadata": {},
   "outputs": [],
   "source": [
    "def oddEvenList(head:ListNode) -> ListNode:\n",
    "    #예외처리\n",
    "    if head is None: return None\n",
    "\n",
    "    odd = head\n",
    "    even = head.next\n",
    "\n",
    "    even_head = head.next\n",
    "\n",
    "    #반복 하면서 홀짝노드 처리\n",
    "    while even and even.next:\n",
    "        odd.next, even.next = odd.next.next , even.next.next\n",
    "        odd, even = odd.next, even.next\n",
    "\n",
    "    #홀수 노드의 마지막을 짝수 헤드로 연결\n",
    "    odd.next = even_head\n",
    "\n",
    "    return head"
   ]
  }
 ],
 "metadata": {
  "language_info": {
   "name": "python"
  },
  "orig_nbformat": 4
 },
 "nbformat": 4,
 "nbformat_minor": 2
}
