{
 "cells": [
  {
   "cell_type": "markdown",
   "metadata": {},
   "source": [
    "역순 연결 리스트\n",
    "련결 리스트를 뒤집어라\n",
    "\n",
    "입력 1->2->3->4->5->null\n",
    "출력 5->4->3->2->1->null"
   ]
  },
  {
   "cell_type": "code",
   "execution_count": null,
   "metadata": {},
   "outputs": [],
   "source": [
    "#재귀구조로 뒤집기\n",
    "def reverseList(head:ListNode):\n",
    "    def reverse(node: ListNode, prev:ListNode = None):\n",
    "        if not node: return prev\n",
    "\n",
    "        next, node.next = node.next, prev\n",
    "        return reverse(next, node)\n",
    "\n",
    "    return reverse(head)"
   ]
  },
  {
   "cell_type": "code",
   "execution_count": null,
   "metadata": {},
   "outputs": [],
   "source": [
    "#반복 구조로 뒤집기\n",
    "#반복 구조가 훨씬더 직관적이지만 연결리스트 자체가 직관적인 \n",
    "#데이터 타입이 아니라서 조금은 어려움\n",
    "def reverseList(head:ListNode):\n",
    "    node, prev = head, None\n",
    "\n",
    "    while node:\n",
    "        next, node.next = node.next, prev\n",
    "        prev, node = node, next\n",
    "\n",
    "    return prev "
   ]
  }
 ],
 "metadata": {
  "language_info": {
   "name": "python"
  },
  "orig_nbformat": 4
 },
 "nbformat": 4,
 "nbformat_minor": 2
}
