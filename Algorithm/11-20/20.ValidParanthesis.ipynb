{
 "cells": [
  {
   "cell_type": "markdown",
   "metadata": {},
   "source": [
    "유효한 괄호\n",
    "괄호로 된 입력값이 올바른지 판단하라\n",
    "\n",
    "입력 ()[]{}\n",
    "출력 True"
   ]
  },
  {
   "cell_type": "code",
   "execution_count": null,
   "metadata": {},
   "outputs": [],
   "source": [
    "def isValidParanthesis(s:str) -> bool:\n",
    "    stack = []\n",
    "    table = {\n",
    "        \")\":\"(\",\n",
    "        \"}\":\"{\",\n",
    "        \"]\":\"[\",\n",
    "    }\n",
    "\n",
    "    #스택 이용 예외 처리 및 일치 여부 판별\n",
    "\n",
    "    for char in s:\n",
    "        # 글자가 table 의 키가 아니라면 스택에 넣어라\n",
    "        if char not in table:\n",
    "            stack.append(char)\n",
    "            #stack 이 비게 되거나 현재 글자의 table 값이 stack 에서 마지막으로 뽑은 값이라 같지 않으면 \n",
    "        elif not stack or table[char] != stack.pop():\n",
    "            return False\n",
    "            \n",
    "    return len(stack) == 0"
   ]
  }
 ],
 "metadata": {
  "language_info": {
   "name": "python"
  },
  "orig_nbformat": 4
 },
 "nbformat": 4,
 "nbformat_minor": 2
}
