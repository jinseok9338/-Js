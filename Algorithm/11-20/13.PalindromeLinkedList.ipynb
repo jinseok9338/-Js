{
 "cells": [
  {
   "cell_type": "markdown",
   "metadata": {},
   "source": [
    "팰린들롬 연결 리스트\n",
    "연결 리스트가 팰린드롬인지 아닌지 판단하라\n",
    "\n",
    "input 1->2->2->1\n",
    "output true"
   ]
  },
  {
   "cell_type": "code",
   "execution_count": null,
   "metadata": {},
   "outputs": [],
   "source": [
    "# Deque 를 이용해서 연결리스트를 deque 로 변형후 pop과 popleft 활용\n",
    "# 이것은 연결 리스트를 이용한 문제는 아니지만 이정도만 풀어내도 훌륭함\n",
    "def isPalindrome(head: ListNode) -> bool:\n",
    "    # 데크 자료형 선언 \n",
    "    q: Deque = collections.deque()\n",
    "\n",
    "    if not head: return True\n",
    "\n",
    "    node = head\n",
    "    while node is not None:\n",
    "        q.append(node.val)\n",
    "        # 다음 head 로 넘어감\n",
    "        node = node.next\n",
    "    \n",
    "    while len(q) > 1:\n",
    "        if q.popleft() != q.pop():\n",
    "            return False\n",
    "    return True "
   ]
  },
  {
   "cell_type": "code",
   "execution_count": null,
   "metadata": {},
   "outputs": [],
   "source": [
    "# 러너를 이용한 풀이\n",
    "def isPalindrome(head: ListNode) -> bool:\n",
    "    # reverse 를 마들어줄 rev 선언 \n",
    "    rev = None\n",
    "    slow = fast = head # slow 와 fast 의 처음은 head 의 앞부분이다.\n",
    "\n",
    "    \n",
    "    while fast and fast.next:\n",
    "        fast = fast.next.next\n",
    "        rev, rev.next,slow = slow, rev, slow.next # 여기에서의 slow.next 는 slow.next 이다.\n",
    "        # 만약 \n",
    "        # rev, rev.next = slow, rev\n",
    "        # slow = slow.next 로 가면 slow 가 rev 가 되기때문에\n",
    "        # rev.next 를 가리키게 된다.\n",
    "\n",
    "\n",
    "    # fast 가 남아 있다면 한번 더 가줘야 반절을 넘김\n",
    "    if fast:\n",
    "        slow = slow.next\n",
    "    \n",
    "    #팰리드롬 여부 확인 \n",
    "    while rev and rev.val == slow.val:\n",
    "        slow,rev = slow.next, rev.next\n",
    "    \n",
    "    return not rev"
   ]
  },
  {
   "cell_type": "markdown",
   "metadata": {},
   "source": [
    "'''\n",
    "rev, rev.next,slow = slow, rev, slow.next\n",
    "'''\n"
   ]
  }
 ],
 "metadata": {
  "language_info": {
   "name": "python"
  },
  "orig_nbformat": 4
 },
 "nbformat": 4,
 "nbformat_minor": 2
}
