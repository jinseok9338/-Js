{
 "cells": [
  {
   "cell_type": "markdown",
   "metadata": {},
   "source": [
    "역순 연결리스트 2 \n",
    "인덱스 m 에서 n 까지를 역순으로 만들어라. 인덱스 m은 1부터 시작한다.\n",
    "\n",
    "입력 1->2->3->4->5->Null m = 2 n = 4\n",
    "출력 1->4->3->2->5->Null "
   ]
  },
  {
   "cell_type": "code",
   "execution_count": null,
   "metadata": {},
   "outputs": [],
   "source": [
    "def reverseBetween(head:ListNode, m:int, n:int) -> ListNode:\n",
    "    #예외 처리\n",
    "    if not head or m == n: return head\n",
    "\n",
    "    root = start = ListNode(None)\n",
    "\n",
    "    root.next = head\n",
    "    \n",
    "    #start , end 지정\n",
    "    for _ in range(m-1):\n",
    "        start = start.next\n",
    "    end = start.next\n",
    "\n",
    "    #반복하면서 노드 차례대로 뒤집기\n",
    "    for _ in range(n-m):\n",
    "        tmp, start.next, end.next = start.next, end.next, end.next.next\n",
    "        start.next.next = tmp\n",
    "\n",
    "    return root.next"
   ]
  }
 ],
 "metadata": {
  "language_info": {
   "name": "python"
  },
  "orig_nbformat": 4
 },
 "nbformat": 4,
 "nbformat_minor": 2
}
