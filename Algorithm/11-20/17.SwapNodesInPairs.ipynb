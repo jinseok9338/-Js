{
 "cells": [
  {
   "cell_type": "markdown",
   "metadata": {},
   "source": [
    "페어의 노드 스왑\n",
    "연결리스트를 입력받아 페어 단위로 스왑하라\n",
    "\n",
    "입력  1->2->3->4\n",
    "출력  2->1->4->3"
   ]
  },
  {
   "cell_type": "code",
   "execution_count": null,
   "metadata": {},
   "outputs": [],
   "source": [
    "def swapPairs(head:ListNode) -> ListNode:\n",
    "    cur = head\n",
    "\n",
    "    while cur and cur.next:\n",
    "        #값만 변화\n",
    "        cur.val, cur.next.val = cur.next.val, cur.val\n",
    "        cur = cur.next.next\n",
    "    \n",
    "    return head\n",
    "\n",
    "    "
   ]
  },
  {
   "cell_type": "code",
   "execution_count": null,
   "metadata": {},
   "outputs": [],
   "source": [
    "# 반복 구조로 수왑 \n",
    "# 좀 어렵지만 완벽한 이해가 필요하다.\n",
    "def swapPairs(head:ListNode) -> ListNode:\n",
    "    root = prev = ListNode(None)\n",
    "    prev.next = head\n",
    "    while head and head.next:\n",
    "        # b 가 a 를 가리키도록 할당 \n",
    "        b = head.next\n",
    "        head.next = b.next\n",
    "        b.next = head\n",
    "\n",
    "        # prev 가 b를 가리키도록 할당\n",
    "        prev.next = b\n",
    "\n",
    "        # 다음번 비교를 위해 이동 \n",
    "        head = head.next\n",
    "        prev = prev.next.next\n",
    "\n",
    "    return root.next\n"
   ]
  }
 ],
 "metadata": {
  "kernelspec": {
   "display_name": "Python 3.8.13 64-bit ('shims')",
   "language": "python",
   "name": "python3"
  },
  "language_info": {
   "name": "python",
   "version": "3.8.13"
  },
  "orig_nbformat": 4,
  "vscode": {
   "interpreter": {
    "hash": "9ac03a0a6051494cc606d484d27d20fce22fb7b4d169f583271e11d5ba46a56e"
   }
  }
 },
 "nbformat": 4,
 "nbformat_minor": 2
}
