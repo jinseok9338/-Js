{
 "cells": [
  {
   "cell_type": "markdown",
   "metadata": {},
   "source": [
    "두수의 덧샘\n",
    "역순으로 저장된 연결 리스트의 숫자를 더하라"
   ]
  },
  {
   "cell_type": "code",
   "execution_count": null,
   "metadata": {},
   "outputs": [],
   "source": [
    "#전가산기 구현 \n",
    "def addTwoNumbers(l1:ListNode, l2:ListNode) -> ListNode:\n",
    "    root = head = ListNode(0)\n",
    "\n",
    "    #몫 \n",
    "    carry = 0\n",
    "    while l1 or l2 or carry:\n",
    "        sum = 0\n",
    "        #두 입력값의 합 계산\n",
    "        if l1:\n",
    "            sum += l1.val\n",
    "            l1 = l1.next\n",
    "        if l2:\n",
    "            sum += l2.val\n",
    "            l2 = l2.next\n",
    "\n",
    "        carry, val = divmod(sum + carry, 10) # 10으로 나눈값의 몫과 나머지\n",
    "        head.next = ListNode(val)\n",
    "        # head(0) 다음수 부터 val 를 가짐 \n",
    "        head = head.next\n",
    "\n",
    "    #head 를 return 할수 없는 이유는 head 는 계속해서 변화해서 root = head 를 반환시킨다.\n",
    "    return root\n",
    "        "
   ]
  }
 ],
 "metadata": {
  "kernelspec": {
   "display_name": "Python 3.8.13 64-bit ('shims')",
   "language": "python",
   "name": "python3"
  },
  "language_info": {
   "name": "python",
   "version": "3.8.13"
  },
  "orig_nbformat": 4,
  "vscode": {
   "interpreter": {
    "hash": "9ac03a0a6051494cc606d484d27d20fce22fb7b4d169f583271e11d5ba46a56e"
   }
  }
 },
 "nbformat": 4,
 "nbformat_minor": 2
}
