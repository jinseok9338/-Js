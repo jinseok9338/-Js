{
 "cells": [
  {
   "cell_type": "markdown",
   "metadata": {},
   "source": [
    "자신을 제외한 배열의 곱\n",
    "배열을 입력받아 output[i]가 자신을 제외한 나머지 모든 요소의 곱셉 결과가 되도록 출력하라\n",
    "\n",
    "input [1,2,3,4]\n",
    "output [24,12,8,6]\n"
   ]
  },
  {
   "cell_type": "code",
   "execution_count": null,
   "metadata": {},
   "outputs": [],
   "source": [
    "def productExceptSelf(nums:List[int]) -> List[int]:\n",
    "    out = []\n",
    "    p = 1\n",
    "    \n",
    "    #왼쪽 곱셈\n",
    "    for i in range(0,len(nums)):\n",
    "        out.append(p)\n",
    "        p = p * nums[i]\n",
    "    \n",
    "    # 오른쪽 곱셈 \n",
    "    p = 1\n",
    "    for i in range(len(nums) -1, 0, -1):\n",
    "        out[i] = out[i] * p\n",
    "        p = p * nums[i]\n",
    "    \n",
    "    return out \n"
   ]
  }
 ],
 "metadata": {
  "language_info": {
   "name": "python"
  },
  "orig_nbformat": 4
 },
 "nbformat": 4,
 "nbformat_minor": 2
}
